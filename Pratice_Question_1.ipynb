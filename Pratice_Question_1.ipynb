{
 "cells": [
  {
   "cell_type": "code",
   "execution_count": 3,
   "id": "6b9c73f9-a000-445a-b8e8-5e05ba4e4bd6",
   "metadata": {},
   "outputs": [],
   "source": [
    "import numpy as np"
   ]
  },
  {
   "cell_type": "code",
   "execution_count": 4,
   "id": "4f3e4829-97af-425c-936a-5257b3329af9",
   "metadata": {},
   "outputs": [
    {
     "name": "stdout",
     "output_type": "stream",
     "text": [
      "[ 7 14 21 28]\n"
     ]
    }
   ],
   "source": [
    "#Create a NumPy array from the list [7,14,21,28]. Print the array.\n",
    "\n",
    "arr = np.array([7,14,21,28])\n",
    "print(arr)\n"
   ]
  },
  {
   "cell_type": "code",
   "execution_count": 5,
   "id": "576b17f4-32b7-440c-a9f0-087819882eaf",
   "metadata": {},
   "outputs": [
    {
     "name": "stdout",
     "output_type": "stream",
     "text": [
      "(2, 3)\n",
      "2\n"
     ]
    }
   ],
   "source": [
    "#Create a 2D NumPy array [[5,10,15],[20,25,30]]. Print its shape and number of dimensions.\n",
    "\n",
    "arr = np.array([[5,10,15],[20,25,30]])\n",
    "print(arr.shape)\n",
    "print(arr.ndim)"
   ]
  },
  {
   "cell_type": "code",
   "execution_count": 6,
   "id": "01fa15f2-d635-4745-92d9-00dd9ce875cd",
   "metadata": {},
   "outputs": [
    {
     "name": "stdout",
     "output_type": "stream",
     "text": [
      "[[0. 0. 0.]\n",
      " [0. 0. 0.]]\n",
      "\n",
      "\n",
      "[ 0  3  6  9 12]\n"
     ]
    }
   ],
   "source": [
    "#Use np.zeros to create a 2D array of shape (2,3). Then, use np.arange to create an array from 0 to 12 with a step of 3. Print both arrays.\n",
    "\n",
    "a = np.zeros((2,3))\n",
    "b = np.arange(0,13,3)\n",
    "print(a)\n",
    "print(\"\\n\")\n",
    "print(b)\n",
    "     "
   ]
  },
  {
   "cell_type": "code",
   "execution_count": 7,
   "id": "480af631-973d-40a3-8665-8734c00b75df",
   "metadata": {},
   "outputs": [
    {
     "name": "stdout",
     "output_type": "stream",
     "text": [
      "[ 6 12 18 24]\n"
     ]
    }
   ],
   "source": [
    "#Create a NumPy array [2,4,6,8]. Multiply all elements by 3 and print the result.\n",
    "\n",
    "a = np.array([2,4,6,8])\n",
    "b = a*3\n",
    "print(b)"
   ]
  },
  {
   "cell_type": "code",
   "execution_count": 8,
   "id": "a4f64f42-53cb-4493-9f61-b59962cf88ec",
   "metadata": {},
   "outputs": [
    {
     "name": "stdout",
     "output_type": "stream",
     "text": [
      "Third element =  5\n",
      "\n",
      "Slice form index 1 to 3 (inclusive) = [3 5 7]\n"
     ]
    }
   ],
   "source": [
    "#Create a NumPy array [1,3,5,7,9,11]. Print the third element and a slice from index 1 to 3 (inclusive).\n",
    "\n",
    "a = np.arange(1,12,2)\n",
    "print(\"Third element = \", end = \" \")\n",
    "print(a[2])\n",
    "print(\"\\nSlice form index 1 to 3 (inclusive) =\", end= \" \")\n",
    "print(a[1:4])\n",
    "     "
   ]
  },
  {
   "cell_type": "code",
   "execution_count": 9,
   "id": "92d4fcbd-ff57-4802-8ece-1eeca0ccc38e",
   "metadata": {},
   "outputs": [
    {
     "name": "stdout",
     "output_type": "stream",
     "text": [
      "[[8 1 8]\n",
      " [1 5 1]\n",
      " [1 3 6]]\n",
      "\n",
      "Modified array:\n",
      "[[0 1 0]\n",
      " [1 5 1]\n",
      " [1 3 0]]\n"
     ]
    }
   ],
   "source": [
    "#Create a 2D Numpy array of shape (3,3) with random integers between 1 and 10 (inclusive) using np.random.randint. Then, replace all values greater than 5 aith 0 and print the modified array.\n",
    "\n",
    "arr = np.random.randint(1,11,(3,3))\n",
    "print(arr)\n",
    "arr[arr>5] = 0\n",
    "print(\"\\nModified array:\")\n",
    "print(arr)"
   ]
  },
  {
   "cell_type": "code",
   "execution_count": 10,
   "id": "8d1b2583-952f-4c72-9f39-396905da3568",
   "metadata": {},
   "outputs": [
    {
     "name": "stdout",
     "output_type": "stream",
     "text": [
      "[ 3  7 11 15]\n",
      "[ 2 12 30 56]\n"
     ]
    }
   ],
   "source": [
    "#Create two 1D NumPy arrays: [2,4,6,8] and [1,3,5,7]. Compute the element-wise sum and the dot product of the two arrays. Print both results.\n",
    "\n",
    "a = np.array([2,4,6,8])\n",
    "b = np.array([1,3,5,7])\n",
    "\n",
    "sum = a+b\n",
    "product = a*b\n",
    "print(sum)\n",
    "print(product)\n",
    "     "
   ]
  },
  {
   "cell_type": "code",
   "execution_count": 14,
   "id": "507bb62e-3d94-4ecf-a547-08829c6d7211",
   "metadata": {},
   "outputs": [
    {
     "name": "stdout",
     "output_type": "stream",
     "text": [
      "[[11. 21. 31.]\n",
      " [11. 21. 31.]\n",
      " [11. 21. 31.]\n",
      " [11. 21. 31.]]\n"
     ]
    }
   ],
   "source": [
    "#Create a 2D NumPy array of shape (4,3) filled with ones using np.ones. Then, add a 1D array [10,20,30] to each row of the 2D array using broadcadting. Print the resulting array.\n",
    "\n",
    "a = np.ones((4,3))\n",
    "b = np.array([10,20,30])\n",
    "\n",
    "new_arr = a+b\n",
    "\n",
    "print(new_arr)\n",
    "     "
   ]
  },
  {
   "cell_type": "code",
   "execution_count": 15,
   "id": "4368931e-8721-4d22-bec4-85148548a8c6",
   "metadata": {},
   "outputs": [
    {
     "name": "stdout",
     "output_type": "stream",
     "text": [
      "5.0\n",
      "[1 2 3 4 5 6 7 8 9]\n"
     ]
    }
   ],
   "source": [
    "#Create a 2D NumPy array [[1,2,3],[4,5,6],[7,8,9]]. Extract the second column and compute its mean using np.mean. Then, reshape the original array into a 1D array and print both results.\n",
    "\n",
    "a = np.array([[1,2,3],[4,5,6],[7,8,9]])\n",
    "mean_value = np.mean(a[:,1])\n",
    "print(mean_value)\n",
    "\n",
    "new_arr = np.array(a).reshape(-1)\n",
    "print(new_arr)"
   ]
  },
  {
   "cell_type": "code",
   "execution_count": 16,
   "id": "ac9289dc-dca1-409b-a1f1-ce4187a56961",
   "metadata": {},
   "outputs": [
    {
     "name": "stdout",
     "output_type": "stream",
     "text": [
      "[10 20 30 40 50 60]\n",
      "[1600 2500 3600]\n"
     ]
    }
   ],
   "source": [
    "#Create a 1D NumPy array [10, 20, 30 ,40, 50, 60]. Use a boolean mask to select elements greater than 30, then square those elements. Print the original array and the modified array.\n",
    "\n",
    "a = np.array([10, 20, 30 ,40, 50, 60])\n",
    "mask = a>30\n",
    "new_arr = a[mask]**2\n",
    "print(a)\n",
    "print(new_arr)\n",
    "    "
   ]
  },
  {
   "cell_type": "code",
   "execution_count": null,
   "id": "84fac7f2-2c12-4a2d-8a84-a066ff5b3343",
   "metadata": {},
   "outputs": [],
   "source": [
    "\n",
    "\"\"\"\n",
    "Remaining to do\n",
    "\n",
    "    ✅ Basic Level\n",
    "Create an array of even numbers from 2 to 20.\n",
    "\n",
    "Create a 1D array of 10 zeros and change the 5th value to 99.\n",
    "\n",
    "Reverse a 1D array without using loops.\n",
    "\n",
    "Check the data type of each element in an array.\n",
    "\n",
    "Convert a Python list [1.1, 2.2, 3.3] to an integer array.\n",
    "\n",
    "🟡 Intermediate Level\n",
    "Generate a 4×4 identity matrix.\n",
    "\n",
    "Create a 5×5 array with random integers from 0 to 100 and find the maximum value in each row.\n",
    "\n",
    "Normalize an array (scale values between 0 and 1).\n",
    "\n",
    "Replace all even numbers in an array with -1 without a loop.\n",
    "\n",
    "Count the number of elements greater than 50 in a random array of 100 values.\n",
    "\n",
    "🔵 Advanced Level\n",
    "Find the common elements between two NumPy arrays.\n",
    "\n",
    "Find the row-wise and column-wise sum of a 3x3 matrix.\n",
    "\n",
    "Replace the diagonal elements of a matrix with 0.\n",
    "\n",
    "Create a 2D array and compute the cumulative sum along the rows and columns.\n",
    "\n",
    "Sort a 2D array by a specific column (e.g., sort by second column).\n",
    "\n",
    "🧠 Bonus: Real-World Type Mini Tasks\n",
    "Create a temperature dataset and convert Celsius to Fahrenheit using vectorized operations.\n",
    "\n",
    "Simulate a dice roll (6-sided) 1000 times and count frequency of each face.\n",
    "\n",
    "Given salary data in an array, filter out employees earning more than average.\n",
    "\n",
    "Create a 10×10 matrix and replace the border with 1s and the inner cells with 0.\n",
    "\n",
    "Split a 1D array of size 20 into 4 equal parts and reshape each into (2, 2).\n",
    "\"\"\""
   ]
  }
 ],
 "metadata": {
  "kernelspec": {
   "display_name": "Python 3 (ipykernel)",
   "language": "python",
   "name": "python3"
  },
  "language_info": {
   "codemirror_mode": {
    "name": "ipython",
    "version": 3
   },
   "file_extension": ".py",
   "mimetype": "text/x-python",
   "name": "python",
   "nbconvert_exporter": "python",
   "pygments_lexer": "ipython3",
   "version": "3.13.1"
  }
 },
 "nbformat": 4,
 "nbformat_minor": 5
}
