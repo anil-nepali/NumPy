{
 "cells": [
  {
   "cell_type": "code",
   "execution_count": 1,
   "id": "a4e9d698-4956-4d87-875d-dad592fb0149",
   "metadata": {},
   "outputs": [
    {
     "name": "stdout",
     "output_type": "stream",
     "text": [
      "[10 20 30 40]\n",
      "[40 50 60]\n"
     ]
    }
   ],
   "source": [
    "#slcicing\n",
    "'''\n",
    "    Slcicing is basically extracting particular set of elements from an array.\n",
    "    syntax:\n",
    "    array[start:stop:step]\n",
    "\n",
    "'''\n",
    "#slicing 1D Array\n",
    "import numpy as np\n",
    "arr = np.array([10,20,30,40,50,60,70])\n",
    "print(arr[0:4])   #[10 20 30 40]\n",
    "print(arr[-4:-1]) #[40 50 60]\n",
    "\n",
    "\n"
   ]
  },
  {
   "cell_type": "code",
   "execution_count": 3,
   "id": "d42506cc-96eb-42b9-a944-c1765601d035",
   "metadata": {},
   "outputs": [
    {
     "name": "stdout",
     "output_type": "stream",
     "text": [
      "3\n",
      "[[3 4 5 6]]\n",
      "[3 5]\n"
     ]
    }
   ],
   "source": [
    "\n",
    "#slicing 2D Array\n",
    "arra=np.array([(1,2,3,4),(3,4,5,6)])\n",
    "print(arra[0,2])  #3\n",
    "print(arra[1:3])  \n",
    "print(arra[0:,2]) #[3,5]"
   ]
  },
  {
   "cell_type": "code",
   "execution_count": 4,
   "id": "1c1524eb-4033-4df4-ae0a-fa2391ca4126",
   "metadata": {},
   "outputs": [
    {
     "name": "stdout",
     "output_type": "stream",
     "text": [
      "[ 2.  4.  6.  8. 10.]\n",
      "[1. 3. 5. 7. 9.]\n"
     ]
    }
   ],
   "source": [
    "#linespace\n",
    "'''\n",
    "    This is another operation in python numpy which returns evenly spaced \n",
    "    numbers over a specified interval\n",
    "'''\n",
    "import numpy as np\n",
    "a=np.linspace(2,10,5)\n",
    "arr=np.linspace(1,9,5)\n",
    "print(a)   #[ 2.  4.  6.  8. 10.]\n",
    "print(arr) #[1. 3. 5. 7. 9.]\n",
    "\n",
    "#This code has printed 5 values between 2 to 10"
   ]
  }
 ],
 "metadata": {
  "kernelspec": {
   "display_name": "Python 3 (ipykernel)",
   "language": "python",
   "name": "python3"
  },
  "language_info": {
   "codemirror_mode": {
    "name": "ipython",
    "version": 3
   },
   "file_extension": ".py",
   "mimetype": "text/x-python",
   "name": "python",
   "nbconvert_exporter": "python",
   "pygments_lexer": "ipython3",
   "version": "3.13.1"
  }
 },
 "nbformat": 4,
 "nbformat_minor": 5
}
