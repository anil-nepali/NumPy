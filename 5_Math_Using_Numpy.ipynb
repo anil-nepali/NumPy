{
 "cells": [
  {
   "cell_type": "code",
   "execution_count": 2,
   "id": "467610ae-0b39-4feb-84df-9633adc8560b",
   "metadata": {},
   "outputs": [
    {
     "name": "stdout",
     "output_type": "stream",
     "text": [
      "10\n",
      "2.5\n",
      "2.5\n",
      "1.118033988749895\n",
      "100\n",
      "22\n",
      "[10.          4.69041576  5.56776436]\n",
      "Add: [[31 30  6]\n",
      " [66 53 10]]\n",
      "sub: [[  5 -26   0]\n",
      " [-60  45   0]]\n",
      "Mul: [[234  56   9]\n",
      " [189 196  25]]\n",
      "Div: [[ 1.38461538  0.07142857  1.        ]\n",
      " [ 0.04761905 12.25        1.        ]]\n"
     ]
    },
    {
     "data": {
      "text/plain": [
       "'\\nAdd: [[31 30  6]\\n [66 53 10]]\\nsub: [[  5 -26   0]\\n [-60  45   0]]\\nMul: [[234  56   9]\\n [189 196  25]]\\nDiv: [[ 1.38461538  0.07142857  1.        ]\\n [ 0.04761905 12.25        1.        ]]\\n\\n'"
      ]
     },
     "execution_count": 2,
     "metadata": {},
     "output_type": "execute_result"
    }
   ],
   "source": [
    "# Mathematical Functions in NumPy\n",
    "# Basic Statistical Functions\n",
    "\n",
    "import numpy as np\n",
    "\n",
    "# Creating a 2D array\n",
    "arr = np.array([[1, 2], [3, 4]])\n",
    "\n",
    "# 1. Sum of all elements\n",
    "'''\n",
    "The np.sum() function returns the sum of all the elements in the array.\n",
    "'''\n",
    "print(np.sum(arr))  # Output: 10 (1+2+3+4)\n",
    "\n",
    "# 2. Mean of all elements\n",
    "'''\n",
    "The np.mean() function computes the average (mean) of all the elements in the array.\n",
    "'''\n",
    "print(np.mean(arr))  # Output: 2.5 (mean of 1, 2, 3, 4)\n",
    "\n",
    "# 3. Median of all elements\n",
    "'''\n",
    "The np.median() function computes the median of the array (middle value).\n",
    "'''\n",
    "print(np.median(arr))  # Output: 2.5 (middle value of 1, 2, 3, 4)\n",
    "\n",
    "# 4. Standard Deviation\n",
    "'''\n",
    "The np.std() function calculates the standard deviation, measuring how spread out the values are.\n",
    "'''\n",
    "print(np.std(arr))  # Output: 1.118033988749895 (standard deviation of 1, 2, 3, 4)\n",
    "\n",
    "# Creating a 1D array for max and min operations\n",
    "a = np.array([100, 22, 31])\n",
    "\n",
    "# 5. Maximum value\n",
    "'''\n",
    "The np.max() function returns the largest value in the array.\n",
    "'''\n",
    "print(np.max(a))  # Output: 100 (largest value in [100, 22, 31])\n",
    "\n",
    "# 6. Minimum value\n",
    "'''\n",
    "The np.min() function returns the smallest value in the array.\n",
    "'''\n",
    "print(np.min(a))  # Output: 22 (smallest value in [100, 22, 31])\n",
    "\n",
    "# 7. Square root of each element\n",
    "'''\n",
    "The np.sqrt() function computes the square root of each element in the array.\n",
    "'''\n",
    "print(np.sqrt(a))  # Output: [10.    4.69041576  5.56776436] (square root of 100, 22, and 31)\n",
    "\n",
    "#8. Additional/Subtraction\n",
    "'''\n",
    "The operation of Numpy array i.e add,sub,mul and div of two matrics \n",
    "can be determined.\n",
    "'''\n",
    "x=np.array([(18,2,3),(3,49,5)])\n",
    "y=np.array([(13,28,3),(63,4,5)])\n",
    "print(\"Add:\",x+y)\n",
    "print(\"sub:\",x-y)\n",
    "print(\"Mul:\",x*y)\n",
    "print(\"Div:\",x/y)\n",
    "'''\n",
    "Add: [[31 30  6]\n",
    " [66 53 10]]\n",
    "sub: [[  5 -26   0]\n",
    " [-60  45   0]]\n",
    "Mul: [[234  56   9]\n",
    " [189 196  25]]\n",
    "Div: [[ 1.38461538  0.07142857  1.        ]\n",
    " [ 0.04761905 12.25        1.        ]]\n",
    "\n",
    "'''\n",
    "\n",
    "\n"
   ]
  },
  {
   "cell_type": "code",
   "execution_count": 4,
   "id": "2d3db0b1-31f3-4ab7-ba4f-806553c99a07",
   "metadata": {},
   "outputs": [
    {
     "name": "stdout",
     "output_type": "stream",
     "text": [
      "[1. 5. 9.]\n",
      "[1. 4. 8.]\n",
      "[2. 5. 9.]\n"
     ]
    }
   ],
   "source": [
    "# Rounding operations\n",
    "decimals = np.array([1.23, 4.67, 8.91])\n",
    "print(np.round(decimals))     # round to nearest integer\n",
    "print(np.floor(decimals))     # round down\n",
    "print(np.ceil(decimals))      # round up"
   ]
  },
  {
   "cell_type": "code",
   "execution_count": 3,
   "id": "164c9225-b29a-4b58-afc3-b41397079976",
   "metadata": {},
   "outputs": [
    {
     "name": "stdout",
     "output_type": "stream",
     "text": [
      "[0.0000000e+00 1.0000000e+00 1.2246468e-16]\n",
      "[ 1.000000e+00  6.123234e-17 -1.000000e+00]\n",
      "[ 0.00000000e+00  1.63312394e+16 -1.22464680e-16]\n"
     ]
    }
   ],
   "source": [
    "# Trigonometric functions\n",
    "angles = np.array([0, np.pi/2, np.pi])\n",
    "print(np.sin(angles))  # sine\n",
    "print(np.cos(angles))  # cosine\n",
    "print(np.tan(angles))  # tangent"
   ]
  },
  {
   "cell_type": "code",
   "execution_count": 5,
   "id": "842374b5-0a4b-481b-97fc-66a95bd2d5dd",
   "metadata": {},
   "outputs": [
    {
     "name": "stdout",
     "output_type": "stream",
     "text": [
      "[ 2.71828183  7.3890561  20.08553692]\n",
      "[0.         0.69314718 1.09861229]\n",
      "[0.         0.30103    0.47712125]\n",
      "[1 4 9]\n"
     ]
    }
   ],
   "source": [
    "# Exponential and logarithmic\n",
    "arr = np.array([1, 2, 3])\n",
    "print(np.exp(arr))      # e^x\n",
    "print(np.log(arr))      # natural log\n",
    "print(np.log10(arr))    # base-10 log\n",
    "print(np.power(arr, 2)) # power function"
   ]
  }
 ],
 "metadata": {
  "kernelspec": {
   "display_name": "Python 3 (ipykernel)",
   "language": "python",
   "name": "python3"
  },
  "language_info": {
   "codemirror_mode": {
    "name": "ipython",
    "version": 3
   },
   "file_extension": ".py",
   "mimetype": "text/x-python",
   "name": "python",
   "nbconvert_exporter": "python",
   "pygments_lexer": "ipython3",
   "version": "3.13.1"
  }
 },
 "nbformat": 4,
 "nbformat_minor": 5
}
