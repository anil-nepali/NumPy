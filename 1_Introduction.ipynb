{
 "cells": [
  {
   "cell_type": "code",
   "execution_count": 1,
   "id": "6fa5737b-a562-4846-b99c-8648221efbb5",
   "metadata": {},
   "outputs": [
    {
     "name": "stdout",
     "output_type": "stream",
     "text": [
      "2.2.5\n"
     ]
    }
   ],
   "source": [
    "#NumPy Operations\n",
    "\"\"\"NumPy is a powerful library for numerical operations in Python.\n",
    "It provides efficient and fast tools for working with large datasets and multi-dimensional arrays.\n",
    "It also includes functions for working in the domains of linear algebra, Fourier transform, and matrices.\"\"\"\n",
    "\n",
    "#Installation of NumPy\n",
    "\n",
    "#To install NumPy, use the following command:\n",
    "#pip install numpy\n",
    "\n",
    "#To verify the installation and check the installed version of NumPy:\n",
    "import numpy as np\n",
    "print(np.__version__) \n",
    "\n",
    "#NumPy is essential for data science,data Analyst, machine learning, and numerical computations."
   ]
  }
 ],
 "metadata": {
  "kernelspec": {
   "display_name": "Python 3 (ipykernel)",
   "language": "python",
   "name": "python3"
  },
  "language_info": {
   "codemirror_mode": {
    "name": "ipython",
    "version": 3
   },
   "file_extension": ".py",
   "mimetype": "text/x-python",
   "name": "python",
   "nbconvert_exporter": "python",
   "pygments_lexer": "ipython3",
   "version": "3.13.1"
  }
 },
 "nbformat": 4,
 "nbformat_minor": 5
}
