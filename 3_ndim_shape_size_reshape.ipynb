{
 "cells": [
  {
   "cell_type": "code",
   "execution_count": 1,
   "id": "ae9b1725-3639-4965-9233-3a8154e3400f",
   "metadata": {},
   "outputs": [
    {
     "name": "stdout",
     "output_type": "stream",
     "text": [
      "2\n"
     ]
    }
   ],
   "source": [
    "#NumPy Operations\n",
    "#NumPy is a powerful library for numerical operations in python\n",
    "\n",
    "#ndim\n",
    "'''\n",
    "    also called as Number of Dimensions\n",
    "    It is used to find the dimension of the array(row*column)\n",
    "\n",
    "'''\n",
    "import numpy as np\n",
    "arr=np.array([(2,3,4),(2,3,3)])\n",
    "print(arr.ndim)"
   ]
  },
  {
   "cell_type": "code",
   "execution_count": 2,
   "id": "495d600d-8aa8-4539-847a-359a38e1def5",
   "metadata": {},
   "outputs": [
    {
     "name": "stdout",
     "output_type": "stream",
     "text": [
      "6\n"
     ]
    }
   ],
   "source": [
    "\n",
    "#Size\n",
    "'''\n",
    "    Size attribute returns the total (number of elements) in the array.\n",
    "    where all dimensions are combined.\n",
    "'''\n",
    "arr = np.array([[1, 2, 3], [4, 5, 6]])\n",
    "print(arr.size)  # Output: 6 (2 *3=6 elements)\n"
   ]
  },
  {
   "cell_type": "code",
   "execution_count": 7,
   "id": "7ea66f77-155b-4cd2-9d71-ae7875586254",
   "metadata": {},
   "outputs": [
    {
     "name": "stdout",
     "output_type": "stream",
     "text": [
      "The shape of array is (2, 3)\n",
      "The dimension of arry is:2\n",
      "The size of array is 12\n",
      "The shape of array is (4, 3)\n"
     ]
    }
   ],
   "source": [
    "#shape\n",
    "'''\n",
    "    shape attribute returns a tuple representing the (dimensions of the array)\n",
    "    (row,columns)\n",
    "'''\n",
    "arr = np.array([[1, 2, 3], [4, 5, 6]])\n",
    "print(f\"The shape of array is {arr.shape}\")\n",
    "\n",
    "a = np.array([(4,4,4),(5,5,5),(6,6,6),(7,7,7)])\n",
    "print(f\"The dimension of arry is:{a.ndim}\") \n",
    "print(f\"The size of array is {a.size}\") \n",
    "print(f\"The shape of array is {a.shape}\") "
   ]
  },
  {
   "cell_type": "code",
   "execution_count": 8,
   "id": "4409e3f4-4f7a-4f5d-9537-231c768fc2f5",
   "metadata": {},
   "outputs": [
    {
     "name": "stdout",
     "output_type": "stream",
     "text": [
      "[[4 4 4]\n",
      " [5 5 5]\n",
      " [6 6 6]\n",
      " [7 7 7]]\n"
     ]
    }
   ],
   "source": [
    "#reshape\n",
    "'''\n",
    "     The reshape() function is used to change the shape of an array without altering its data. \n",
    "     The total number of elements in the reshaped array must remain the same as the original array\n",
    "     otherwise it returns error\n",
    "'''\n",
    "print(a.reshape(4,3))"
   ]
  },
  {
   "cell_type": "code",
   "execution_count": 13,
   "id": "a5643c74-5d0d-4f76-a383-b4abacaf018e",
   "metadata": {},
   "outputs": [
    {
     "ename": "TypeError",
     "evalue": "Field elements must be 2- or 3-tuples, got '4'",
     "output_type": "error",
     "traceback": [
      "\u001b[31m---------------------------------------------------------------------------\u001b[39m",
      "\u001b[31mTypeError\u001b[39m                                 Traceback (most recent call last)",
      "\u001b[36mCell\u001b[39m\u001b[36m \u001b[39m\u001b[32mIn[13]\u001b[39m\u001b[32m, line 1\u001b[39m\n\u001b[32m----> \u001b[39m\u001b[32m1\u001b[39m arra = \u001b[43mnp\u001b[49m\u001b[43m.\u001b[49m\u001b[43marray\u001b[49m\u001b[43m(\u001b[49m\u001b[43m[\u001b[49m\u001b[32;43m1\u001b[39;49m\u001b[43m,\u001b[49m\u001b[32;43m2\u001b[39;49m\u001b[43m,\u001b[49m\u001b[32;43m3\u001b[39;49m\u001b[43m]\u001b[49m\u001b[43m,\u001b[49m\u001b[43m[\u001b[49m\u001b[32;43m4\u001b[39;49m\u001b[43m,\u001b[49m\u001b[32;43m5\u001b[39;49m\u001b[43m]\u001b[49m\u001b[43m)\u001b[49m\n\u001b[32m      2\u001b[39m \u001b[38;5;28mprint\u001b[39m(arra.reshape(\u001b[32m3\u001b[39m,\u001b[32m2\u001b[39m))\n\u001b[32m      3\u001b[39m \u001b[33;03m'''\u001b[39;00m\n\u001b[32m      4\u001b[39m \u001b[33;03mValueError: cannot reshape array of size 12 into shape (3,2)\u001b[39;00m\n\u001b[32m      5\u001b[39m \n\u001b[32m      6\u001b[39m \u001b[33;03mTypeError: Field elements must be 2- or 3-tuples, got '4'\u001b[39;00m\n\u001b[32m      7\u001b[39m \u001b[33;03m'''\u001b[39;00m\n",
      "\u001b[31mTypeError\u001b[39m: Field elements must be 2- or 3-tuples, got '4'"
     ]
    }
   ],
   "source": [
    "arra = np.array([1,2,3],[4,5])\n",
    "print(arra.reshape(3,2))\n",
    "'''\n",
    "ValueError: cannot reshape array of size 12 into shape (3,2)\n",
    "\n",
    "TypeError: Field elements must be 2- or 3-tuples, got '4'\n",
    "'''"
   ]
  }
 ],
 "metadata": {
  "kernelspec": {
   "display_name": "Python 3 (ipykernel)",
   "language": "python",
   "name": "python3"
  },
  "language_info": {
   "codemirror_mode": {
    "name": "ipython",
    "version": 3
   },
   "file_extension": ".py",
   "mimetype": "text/x-python",
   "name": "python",
   "nbconvert_exporter": "python",
   "pygments_lexer": "ipython3",
   "version": "3.13.1"
  }
 },
 "nbformat": 4,
 "nbformat_minor": 5
}
