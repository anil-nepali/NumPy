{
 "cells": [
  {
   "cell_type": "code",
   "execution_count": 2,
   "id": "daba0fe4-6813-4754-9885-8c039ae06e8b",
   "metadata": {},
   "outputs": [
    {
     "name": "stdout",
     "output_type": "stream",
     "text": [
      "1D Array:\n",
      "[10 20 30 40 50]\n",
      "Element at index 2 in 1D Array: 30\n"
     ]
    }
   ],
   "source": [
    "# NumPy Array Creation\n",
    "\"\"\" This file demonstrates different ways to create arrays using NumPy.\n",
    "Numpy array is like container that holds number in an organized way (1D,2D,3D etc)\n",
    "In computer programming, an array is a structure for storing and retrieving data. \n",
    "\n",
    "\n",
    "     We can visualize 1D array like \n",
    "     ----------------------\n",
    "     |      |      |       |\n",
    "     |   1  | 2    |  3    |\n",
    "      ---------------------\n",
    "\"\"\"\n",
    "\n",
    "import numpy as np\n",
    "\n",
    "# 1. Creating a 1D Array\n",
    "arr_1d = np.array([10, 20, 30, 40, 50])\n",
    "print(f\"1D Array:\\n{arr_1d}\")\n",
    "'''\n",
    "Output:\n",
    "1D Array:\n",
    "[10 20 30 40 50]\n",
    "'''\n",
    "\n",
    "# Array Indexing - Accessing Elements in 1D Array  indexing in array start with zero\n",
    "print(f\"Element at index 2 in 1D Array: {arr_1d[2]}\")  \n",
    "\n"
   ]
  },
  {
   "cell_type": "code",
   "execution_count": 4,
   "id": "5ee75ad1-348d-4b07-9664-5e7ef9ef14cd",
   "metadata": {},
   "outputs": [
    {
     "name": "stdout",
     "output_type": "stream",
     "text": [
      "2D Array:\n",
      "[[1 2 3]\n",
      " [4 5 6]]\n",
      "Element at position (1, 2): 6\n"
     ]
    }
   ],
   "source": [
    "# 2. Creating a 2D Array\n",
    "\"\"\"\n",
    "    Visualization of a 2D Array (3 columns × 2 rows):\n",
    "    -------------------\n",
    "    |  1  |  2  |  3  |    this we row we called as 0\n",
    "    -------------------\n",
    "    |  4  |  5  |  6  |    this row we called as 1\n",
    "    -------------------\n",
    "    Row 0     Row 1\n",
    "\"\"\"\n",
    "\n",
    "arr_2d = np.array([[1, 2, 3], [4, 5, 6]])\n",
    "print(f\"2D Array:\\n{arr_2d}\")\n",
    "\n",
    "\n",
    "# Array Indexing - Accessing Elements in 2D Array\n",
    "print(f\"Element at position (1, 2): {arr_2d[1, 2]}\")  "
   ]
  },
  {
   "cell_type": "code",
   "execution_count": 6,
   "id": "c5da6487-5cae-4bce-9055-3bebdfe06d8b",
   "metadata": {},
   "outputs": [
    {
     "name": "stdout",
     "output_type": "stream",
     "text": [
      "3D Array:\n",
      "[[[1 2]\n",
      "  [3 4]]\n",
      "\n",
      " [[5 6]\n",
      "  [7 8]]]\n",
      "Element at position (1, 1, 1): 8\n"
     ]
    }
   ],
   "source": [
    "# 3. Creating a 3D Array\n",
    "arr_3d = np.array([[[1, 2], [3, 4]], [[5, 6], [7, 8]]])\n",
    "print(f\"3D Array:\\n{arr_3d}\")\n",
    "\n",
    "\n",
    "\n",
    "# Array Indexing - Accessing Elements in 3D Array\n",
    "print(f\"Element at position (1, 1, 1): {arr_3d[1, 1, 1]}\")  # Output: 8"
   ]
  },
  {
   "cell_type": "code",
   "execution_count": 12,
   "id": "02e36c20-d268-4e70-92d9-75949d674776",
   "metadata": {},
   "outputs": [
    {
     "name": "stdout",
     "output_type": "stream",
     "text": [
      "4D Array of zeros:\n",
      "[[[[0. 0. 0. 0. 0.]\n",
      "   [0. 0. 0. 0. 0.]\n",
      "   [0. 0. 0. 0. 0.]\n",
      "   [0. 0. 0. 0. 0.]]\n",
      "\n",
      "  [[0. 0. 0. 0. 0.]\n",
      "   [0. 0. 0. 0. 0.]\n",
      "   [0. 0. 0. 0. 0.]\n",
      "   [0. 0. 0. 0. 0.]]\n",
      "\n",
      "  [[0. 0. 0. 0. 0.]\n",
      "   [0. 0. 0. 0. 0.]\n",
      "   [0. 0. 0. 0. 0.]\n",
      "   [0. 0. 0. 0. 0.]]]\n",
      "\n",
      "\n",
      " [[[0. 0. 0. 0. 0.]\n",
      "   [0. 0. 0. 0. 0.]\n",
      "   [0. 0. 0. 0. 0.]\n",
      "   [0. 0. 0. 0. 0.]]\n",
      "\n",
      "  [[0. 0. 0. 0. 0.]\n",
      "   [0. 0. 0. 0. 0.]\n",
      "   [0. 0. 0. 0. 0.]\n",
      "   [0. 0. 0. 0. 0.]]\n",
      "\n",
      "  [[0. 0. 0. 0. 0.]\n",
      "   [0. 0. 0. 0. 0.]\n",
      "   [0. 0. 0. 0. 0.]\n",
      "   [0. 0. 0. 0. 0.]]]]\n"
     ]
    }
   ],
   "source": [
    "# 4. Higher Dimensional Arrays (4D and beyond)\n",
    "arr_4d = np.zeros((2, 3, 4, 5))  # Creating a 4D array of zeros with shape (2, 3, 4, 5)\n",
    "print(f\"4D Array of zeros:\\n{arr_4d}\")\n",
    "\n",
    "\n"
   ]
  },
  {
   "cell_type": "code",
   "execution_count": 9,
   "id": "55ca086e-2be8-4916-898c-c235515546cf",
   "metadata": {},
   "outputs": [
    {
     "name": "stdout",
     "output_type": "stream",
     "text": [
      "Array of zeros:\n",
      "[[0. 0. 0. 0.]\n",
      " [0. 0. 0. 0.]\n",
      " [0. 0. 0. 0.]]\n"
     ]
    }
   ],
   "source": [
    "# 5. Using zeros to create an array filled with zeros\n",
    "arr_zeros = np.zeros((3, 4))  # 3 rows, 4 columns\n",
    "print(f\"Array of zeros:\\n{arr_zeros}\")\n"
   ]
  },
  {
   "cell_type": "code",
   "execution_count": 7,
   "id": "b33342f3-29fc-48a7-9f8b-f98d403afda0",
   "metadata": {},
   "outputs": [
    {
     "name": "stdout",
     "output_type": "stream",
     "text": [
      "Array of ones:\n",
      "[[1. 1. 1.]\n",
      " [1. 1. 1.]]\n"
     ]
    }
   ],
   "source": [
    "# 6. Using ones to create an array filled with ones\n",
    "arr_ones = np.ones((2, 3))  # 2 rows, 3 columns\n",
    "print(f\"Array of ones:\\n{arr_ones}\")"
   ]
  }
 ],
 "metadata": {
  "kernelspec": {
   "display_name": "Python 3 (ipykernel)",
   "language": "python",
   "name": "python3"
  },
  "language_info": {
   "codemirror_mode": {
    "name": "ipython",
    "version": 3
   },
   "file_extension": ".py",
   "mimetype": "text/x-python",
   "name": "python",
   "nbconvert_exporter": "python",
   "pygments_lexer": "ipython3",
   "version": "3.13.1"
  }
 },
 "nbformat": 4,
 "nbformat_minor": 5
}
