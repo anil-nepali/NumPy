{
 "cells": [
  {
   "cell_type": "code",
   "execution_count": 10,
   "id": "22e36a40-b14a-45d8-bb82-428e981dd49c",
   "metadata": {},
   "outputs": [
    {
     "name": "stdout",
     "output_type": "stream",
     "text": [
      "[[ 8  5 10]\n",
      " [ 8  1  9]\n",
      " [10  3 11]]\n"
     ]
    },
    {
     "ename": "ValueError",
     "evalue": "The truth value of an array with more than one element is ambiguous. Use a.any() or a.all()",
     "output_type": "error",
     "traceback": [
      "\u001b[31m---------------------------------------------------------------------------\u001b[39m",
      "\u001b[31mValueError\u001b[39m                                Traceback (most recent call last)",
      "\u001b[36mCell\u001b[39m\u001b[36m \u001b[39m\u001b[32mIn[10]\u001b[39m\u001b[32m, line 7\u001b[39m\n\u001b[32m      4\u001b[39m random_array=np.random.randint(\u001b[32m1\u001b[39m,\u001b[32m12\u001b[39m,(\u001b[32m3\u001b[39m,\u001b[32m3\u001b[39m))\n\u001b[32m      5\u001b[39m \u001b[38;5;28mprint\u001b[39m(random_array)\n\u001b[32m----> \u001b[39m\u001b[32m7\u001b[39m \u001b[38;5;28;01mif\u001b[39;00m \u001b[43mrandom_array\u001b[49m\u001b[43m<\u001b[49m\u001b[32;43m5\u001b[39;49m:\n\u001b[32m      8\u001b[39m     \u001b[38;5;28mprint\u001b[39m(random_array=\u001b[32m0\u001b[39m).all()\n\u001b[32m      9\u001b[39m \u001b[38;5;66;03m# else:\u001b[39;00m\n\u001b[32m     10\u001b[39m \u001b[38;5;66;03m#     print(random_array).any()\u001b[39;00m\n",
      "\u001b[31mValueError\u001b[39m: The truth value of an array with more than one element is ambiguous. Use a.any() or a.all()"
     ]
    }
   ],
   "source": [
    "import numpy as np\n",
    "import random\n",
    "\n",
    "random_array=np.random.randint(1,12,(3,3))\n",
    "print(random_array)\n",
    "\n",
    "if random_array<5:\n",
    "    print(random_array=0).all()\n",
    "# else:\n",
    "#     print(random_array).any()"
   ]
  }
 ],
 "metadata": {
  "kernelspec": {
   "display_name": "Python 3 (ipykernel)",
   "language": "python",
   "name": "python3"
  },
  "language_info": {
   "codemirror_mode": {
    "name": "ipython",
    "version": 3
   },
   "file_extension": ".py",
   "mimetype": "text/x-python",
   "name": "python",
   "nbconvert_exporter": "python",
   "pygments_lexer": "ipython3",
   "version": "3.13.1"
  }
 },
 "nbformat": 4,
 "nbformat_minor": 5
}
